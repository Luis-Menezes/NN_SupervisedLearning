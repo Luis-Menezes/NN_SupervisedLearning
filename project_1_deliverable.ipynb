{
 "cells": [
  {
   "cell_type": "markdown",
   "id": "4a876f48",
   "metadata": {},
   "source": [
    "# Neural networks - Project 1 \n",
    "## Luis Filipe Menezes - RA: 164924\n",
    "\n",
    "Este notebook foi feito como entrega para o 1º projeto da disciplina de Redes Neurais do Programa de Pós Gradução em Ciência da Computação (PPG-CC) da Univesidade Federal de São Paulo (UNIFESP).\n",
    "\n",
    "Este projeto consiste em:\n",
    "\n",
    "- Selecionar dois datasets (não triviais)\n",
    "\n",
    "    - Um dataset para **classificação**\n",
    "\n",
    "    - Um dataset para **regressão**\n",
    "\n",
    "- Separar em treino/validação/teste\n",
    "\n",
    "- Treinar modelos MLP para os dois problemas\n",
    "\n",
    "- Considerar:\n",
    "\n",
    "    - Diferentes topologias (>=5 topologias, variar número de camadas)\n",
    "    - Usar o algoritmo original SGD (não usar algoritmos otimizados, e.g.ADAM)\n",
    "    - Avaliar o impacto do uso do Momentum\n",
    "    - Avaliar o impacto do uso da regularização (i.e. L2)\n",
    "\n",
    "- Ilustrar graficamente a evolução do treinamento (treino/validação).\n",
    "\n",
    "- Confeccionar um relatório (reprodutível) contendo os experimentos e resultados\n"
   ]
  },
  {
   "cell_type": "markdown",
   "id": "1881d92f",
   "metadata": {},
   "source": [
    "# Predicting Crocodiles' conservation status\n",
    "\n",
    "O primeiro problema a ser resolvido consiste em um problema de classificação utilizando um *dataset* \n",
    "sobre conservação de espécies de crocodilos."
   ]
  },
  {
   "cell_type": "markdown",
   "id": "7b7ecc38",
   "metadata": {},
   "source": [
    "## Upload do dataset\n",
    "\n",
    "Faremos o upload do *dataset* pela biblioteca **KaggleHub**. \n"
   ]
  },
  {
   "cell_type": "code",
   "execution_count": 4,
   "id": "c2567469",
   "metadata": {},
   "outputs": [
    {
     "name": "stdout",
     "output_type": "stream",
     "text": [
      "A biblioteca kagglehub já está instalada.\n"
     ]
    }
   ],
   "source": [
    "import sys\n",
    "import subprocess\n",
    "import pkg_resources\n",
    "\n",
    "try:\n",
    "    pkg_resources.get_distribution('kagglehub')\n",
    "    print(\"A biblioteca kagglehub já está instalada.\")\n",
    "except pkg_resources.DistributionNotFound:\n",
    "    print(\"A biblioteca kagglehub não foi encontrada. Instalando...\")\n",
    "    subprocess.check_call([sys.executable, \"-m\", \"pip\", \"install\", \"kagglehub\"])\n",
    "    print(\"kagglehub instalado com sucesso.\")"
   ]
  },
  {
   "cell_type": "code",
   "execution_count": 12,
   "id": "338c8799",
   "metadata": {},
   "outputs": [
    {
     "name": "stdout",
     "output_type": "stream",
     "text": [
      "<class 'pandas.core.frame.DataFrame'>\n",
      "RangeIndex: 1000 entries, 0 to 999\n",
      "Data columns (total 15 columns):\n",
      " #   Column                Non-Null Count  Dtype  \n",
      "---  ------                --------------  -----  \n",
      " 0   Observation ID        1000 non-null   int64  \n",
      " 1   Common Name           1000 non-null   object \n",
      " 2   Scientific Name       1000 non-null   object \n",
      " 3   Family                1000 non-null   object \n",
      " 4   Genus                 1000 non-null   object \n",
      " 5   Observed Length (m)   1000 non-null   float64\n",
      " 6   Observed Weight (kg)  1000 non-null   float64\n",
      " 7   Age Class             1000 non-null   object \n",
      " 8   Sex                   1000 non-null   object \n",
      " 9   Date of Observation   1000 non-null   object \n",
      " 10  Country/Region        1000 non-null   object \n",
      " 11  Habitat Type          1000 non-null   object \n",
      " 12  Conservation Status   1000 non-null   object \n",
      " 13  Observer Name         1000 non-null   object \n",
      " 14  Notes                 1000 non-null   object \n",
      "dtypes: float64(2), int64(1), object(12)\n",
      "memory usage: 117.3+ KB\n",
      "Dataset preview: \n",
      " None\n"
     ]
    }
   ],
   "source": [
    "import kagglehub\n",
    "import pandas as pd\n",
    "\n",
    "# Download latest version\n",
    "def download_and_load_dataset():\n",
    "    path = kagglehub.dataset_download(\"zadafiyabhrami/global-crocodile-species-dataset\") + \"/crocodile_dataset.csv\"\n",
    "    df = pd.read_csv(path)\n",
    "    return df, path\n",
    "\n",
    "if __name__ == \"__main__\":\n",
    "    df, path = download_and_load_dataset()\n",
    "    print(\"Dataset preview: \\n\", df.info())"
   ]
  },
  {
   "cell_type": "markdown",
   "id": "9062e727",
   "metadata": {},
   "source": [
    "## Preparação de dados\n",
    "\n",
    "Existem 15 atributos no total, no entanto, nem todos podem ser utilizados para classificação, e.g. *Common Name*, *Notes* ou *Family*."
   ]
  },
  {
   "cell_type": "code",
   "execution_count": 14,
   "id": "b82f43f8",
   "metadata": {},
   "outputs": [],
   "source": [
    "cleaned_df = df.drop(columns=['Common Name', 'Notes', 'Family', \n",
    "                              'Observer Name', 'Country/Region', \n",
    "                              'Date of Observation', 'Sex'])"
   ]
  },
  {
   "cell_type": "code",
   "execution_count": 16,
   "id": "844039ff",
   "metadata": {},
   "outputs": [
    {
     "name": "stdout",
     "output_type": "stream",
     "text": [
      "Colunas categóricas restantes:\n",
      " Index(['Scientific Name', 'Genus', 'Age Class', 'Habitat Type',\n",
      "       'Conservation Status'],\n",
      "      dtype='object')\n",
      "\n",
      "Número de valores únicos por coluna:\n",
      "Scientific Name        18\n",
      "Genus                   3\n",
      "Age Class               4\n",
      "Habitat Type           29\n",
      "Conservation Status     5\n",
      "dtype: int64\n"
     ]
    }
   ],
   "source": [
    "\n",
    "cleaned_df = df.drop(columns=['Common Name', 'Notes', 'Family', \n",
    "                              'Observer Name', 'Country/Region', \n",
    "                              'Date of Observation', 'Sex'])\n",
    "\n",
    "# Célula para inspecionar as colunas categóricas\n",
    "categorical_cols = cleaned_df.select_dtypes(include=['object']).columns\n",
    "print(\"Colunas categóricas restantes:\\n\", categorical_cols)\n",
    "print(\"\\nNúmero de valores únicos por coluna:\")\n",
    "print(cleaned_df[categorical_cols].nunique())"
   ]
  },
  {
   "cell_type": "code",
   "execution_count": 19,
   "id": "82a7ab97",
   "metadata": {},
   "outputs": [
    {
     "name": "stdout",
     "output_type": "stream",
     "text": [
      "Dimensões do DataFrame após One-Hot Encoding: (1000, 14)\n"
     ]
    },
    {
     "data": {
      "application/vnd.microsoft.datawrangler.viewer.v0+json": {
       "columns": [
        {
         "name": "index",
         "rawType": "int64",
         "type": "integer"
        },
        {
         "name": "Observation ID",
         "rawType": "int64",
         "type": "integer"
        },
        {
         "name": "Scientific Name",
         "rawType": "object",
         "type": "string"
        },
        {
         "name": "Observed Length (m)",
         "rawType": "float64",
         "type": "float"
        },
        {
         "name": "Observed Weight (kg)",
         "rawType": "float64",
         "type": "float"
        },
        {
         "name": "Habitat Type",
         "rawType": "object",
         "type": "string"
        },
        {
         "name": "Age Class_Hatchling",
         "rawType": "bool",
         "type": "boolean"
        },
        {
         "name": "Age Class_Juvenile",
         "rawType": "bool",
         "type": "boolean"
        },
        {
         "name": "Age Class_Subadult",
         "rawType": "bool",
         "type": "boolean"
        },
        {
         "name": "Genus_Mecistops",
         "rawType": "bool",
         "type": "boolean"
        },
        {
         "name": "Genus_Osteolaemus",
         "rawType": "bool",
         "type": "boolean"
        },
        {
         "name": "Conservation Status_Data Deficient",
         "rawType": "bool",
         "type": "boolean"
        },
        {
         "name": "Conservation Status_Endangered",
         "rawType": "bool",
         "type": "boolean"
        },
        {
         "name": "Conservation Status_Least Concern",
         "rawType": "bool",
         "type": "boolean"
        },
        {
         "name": "Conservation Status_Vulnerable",
         "rawType": "bool",
         "type": "boolean"
        }
       ],
       "ref": "109ccf0e-8441-493e-a0c0-a6b7da021426",
       "rows": [
        [
         "0",
         "1",
         "Crocodylus moreletii",
         "1.9",
         "62.0",
         "Swamps",
         "False",
         "False",
         "False",
         "False",
         "False",
         "False",
         "False",
         "True",
         "False"
        ],
        [
         "1",
         "2",
         "Crocodylus acutus",
         "4.09",
         "334.5",
         "Mangroves",
         "False",
         "False",
         "False",
         "False",
         "False",
         "False",
         "False",
         "False",
         "True"
        ],
        [
         "2",
         "3",
         "Crocodylus intermedius",
         "1.08",
         "118.2",
         "Flooded Savannas",
         "False",
         "True",
         "False",
         "False",
         "False",
         "False",
         "False",
         "False",
         "False"
        ],
        [
         "3",
         "4",
         "Crocodylus moreletii",
         "2.42",
         "90.4",
         "Rivers",
         "False",
         "False",
         "False",
         "False",
         "False",
         "False",
         "False",
         "True",
         "False"
        ],
        [
         "4",
         "5",
         "Crocodylus palustris",
         "3.75",
         "269.4",
         "Rivers",
         "False",
         "False",
         "False",
         "False",
         "False",
         "False",
         "False",
         "False",
         "True"
        ]
       ],
       "shape": {
        "columns": 14,
        "rows": 5
       }
      },
      "text/html": [
       "<div>\n",
       "<style scoped>\n",
       "    .dataframe tbody tr th:only-of-type {\n",
       "        vertical-align: middle;\n",
       "    }\n",
       "\n",
       "    .dataframe tbody tr th {\n",
       "        vertical-align: top;\n",
       "    }\n",
       "\n",
       "    .dataframe thead th {\n",
       "        text-align: right;\n",
       "    }\n",
       "</style>\n",
       "<table border=\"1\" class=\"dataframe\">\n",
       "  <thead>\n",
       "    <tr style=\"text-align: right;\">\n",
       "      <th></th>\n",
       "      <th>Observation ID</th>\n",
       "      <th>Scientific Name</th>\n",
       "      <th>Observed Length (m)</th>\n",
       "      <th>Observed Weight (kg)</th>\n",
       "      <th>Habitat Type</th>\n",
       "      <th>Age Class_Hatchling</th>\n",
       "      <th>Age Class_Juvenile</th>\n",
       "      <th>Age Class_Subadult</th>\n",
       "      <th>Genus_Mecistops</th>\n",
       "      <th>Genus_Osteolaemus</th>\n",
       "      <th>Conservation Status_Data Deficient</th>\n",
       "      <th>Conservation Status_Endangered</th>\n",
       "      <th>Conservation Status_Least Concern</th>\n",
       "      <th>Conservation Status_Vulnerable</th>\n",
       "    </tr>\n",
       "  </thead>\n",
       "  <tbody>\n",
       "    <tr>\n",
       "      <th>0</th>\n",
       "      <td>1</td>\n",
       "      <td>Crocodylus moreletii</td>\n",
       "      <td>1.90</td>\n",
       "      <td>62.0</td>\n",
       "      <td>Swamps</td>\n",
       "      <td>False</td>\n",
       "      <td>False</td>\n",
       "      <td>False</td>\n",
       "      <td>False</td>\n",
       "      <td>False</td>\n",
       "      <td>False</td>\n",
       "      <td>False</td>\n",
       "      <td>True</td>\n",
       "      <td>False</td>\n",
       "    </tr>\n",
       "    <tr>\n",
       "      <th>1</th>\n",
       "      <td>2</td>\n",
       "      <td>Crocodylus acutus</td>\n",
       "      <td>4.09</td>\n",
       "      <td>334.5</td>\n",
       "      <td>Mangroves</td>\n",
       "      <td>False</td>\n",
       "      <td>False</td>\n",
       "      <td>False</td>\n",
       "      <td>False</td>\n",
       "      <td>False</td>\n",
       "      <td>False</td>\n",
       "      <td>False</td>\n",
       "      <td>False</td>\n",
       "      <td>True</td>\n",
       "    </tr>\n",
       "    <tr>\n",
       "      <th>2</th>\n",
       "      <td>3</td>\n",
       "      <td>Crocodylus intermedius</td>\n",
       "      <td>1.08</td>\n",
       "      <td>118.2</td>\n",
       "      <td>Flooded Savannas</td>\n",
       "      <td>False</td>\n",
       "      <td>True</td>\n",
       "      <td>False</td>\n",
       "      <td>False</td>\n",
       "      <td>False</td>\n",
       "      <td>False</td>\n",
       "      <td>False</td>\n",
       "      <td>False</td>\n",
       "      <td>False</td>\n",
       "    </tr>\n",
       "    <tr>\n",
       "      <th>3</th>\n",
       "      <td>4</td>\n",
       "      <td>Crocodylus moreletii</td>\n",
       "      <td>2.42</td>\n",
       "      <td>90.4</td>\n",
       "      <td>Rivers</td>\n",
       "      <td>False</td>\n",
       "      <td>False</td>\n",
       "      <td>False</td>\n",
       "      <td>False</td>\n",
       "      <td>False</td>\n",
       "      <td>False</td>\n",
       "      <td>False</td>\n",
       "      <td>True</td>\n",
       "      <td>False</td>\n",
       "    </tr>\n",
       "    <tr>\n",
       "      <th>4</th>\n",
       "      <td>5</td>\n",
       "      <td>Crocodylus palustris</td>\n",
       "      <td>3.75</td>\n",
       "      <td>269.4</td>\n",
       "      <td>Rivers</td>\n",
       "      <td>False</td>\n",
       "      <td>False</td>\n",
       "      <td>False</td>\n",
       "      <td>False</td>\n",
       "      <td>False</td>\n",
       "      <td>False</td>\n",
       "      <td>False</td>\n",
       "      <td>False</td>\n",
       "      <td>True</td>\n",
       "    </tr>\n",
       "  </tbody>\n",
       "</table>\n",
       "</div>"
      ],
      "text/plain": [
       "   Observation ID         Scientific Name  Observed Length (m)  \\\n",
       "0               1    Crocodylus moreletii                 1.90   \n",
       "1               2       Crocodylus acutus                 4.09   \n",
       "2               3  Crocodylus intermedius                 1.08   \n",
       "3               4    Crocodylus moreletii                 2.42   \n",
       "4               5    Crocodylus palustris                 3.75   \n",
       "\n",
       "   Observed Weight (kg)      Habitat Type  Age Class_Hatchling  \\\n",
       "0                  62.0            Swamps                False   \n",
       "1                 334.5         Mangroves                False   \n",
       "2                 118.2  Flooded Savannas                False   \n",
       "3                  90.4            Rivers                False   \n",
       "4                 269.4            Rivers                False   \n",
       "\n",
       "   Age Class_Juvenile  Age Class_Subadult  Genus_Mecistops  Genus_Osteolaemus  \\\n",
       "0               False               False            False              False   \n",
       "1               False               False            False              False   \n",
       "2                True               False            False              False   \n",
       "3               False               False            False              False   \n",
       "4               False               False            False              False   \n",
       "\n",
       "   Conservation Status_Data Deficient  Conservation Status_Endangered  \\\n",
       "0                               False                           False   \n",
       "1                               False                           False   \n",
       "2                               False                           False   \n",
       "3                               False                           False   \n",
       "4                               False                           False   \n",
       "\n",
       "   Conservation Status_Least Concern  Conservation Status_Vulnerable  \n",
       "0                               True                           False  \n",
       "1                              False                            True  \n",
       "2                              False                           False  \n",
       "3                               True                           False  \n",
       "4                              False                            True  "
      ]
     },
     "execution_count": 19,
     "metadata": {},
     "output_type": "execute_result"
    }
   ],
   "source": [
    "\n",
    "# Identifica as colunas categóricas para codificar\n",
    "# Supondo que 'Scientific Name' e 'IUCN Red List Category' sejam as principais\n",
    "cols_to_encode = ['Age Class', 'Genus', 'Conservation Status'] # Ajuste conforme sua análise\n",
    "\n",
    "# Aplica o One-Hot Encoding\n",
    "encoded_df = pd.get_dummies(cleaned_df, columns=cols_to_encode, drop_first=True)\n",
    "\n",
    "print(\"Dimensões do DataFrame após One-Hot Encoding:\", encoded_df.shape)\n",
    "encoded_df.head()"
   ]
  }
 ],
 "metadata": {
  "kernelspec": {
   "display_name": "Project_1_venv",
   "language": "python",
   "name": "python3"
  },
  "language_info": {
   "codemirror_mode": {
    "name": "ipython",
    "version": 3
   },
   "file_extension": ".py",
   "mimetype": "text/x-python",
   "name": "python",
   "nbconvert_exporter": "python",
   "pygments_lexer": "ipython3",
   "version": "3.13.7"
  }
 },
 "nbformat": 4,
 "nbformat_minor": 5
}
