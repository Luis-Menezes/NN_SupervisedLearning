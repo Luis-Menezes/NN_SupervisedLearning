{
 "cells": [
  {
   "cell_type": "markdown",
   "id": "4a876f48",
   "metadata": {},
   "source": [
    "# Neural networks - Project 1 \n",
    "## Luis Filipe Menezes - RA: 164924\n",
    "\n",
    "Este notebook foi feito como entrega para o 1º projeto da disciplina de Redes Neurais do Programa de Pós Gradução em Ciência da Computação (PPG-CC) da Univesidade Federal de São Paulo (UNIFESP).\n",
    "\n",
    "Este projeto consiste em:\n",
    "\n",
    "- Selecionar dois datasets (não triviais)\n",
    "\n",
    "    - Um dataset para **classificação**\n",
    "\n",
    "    - Um dataset para **regressão**\n",
    "\n",
    "- Separar em treino/validação/teste\n",
    "\n",
    "- Treinar modelos MLP para os dois problemas\n",
    "\n",
    "- Considerar:\n",
    "\n",
    "    - Diferentes topologias (>=5 topologias, variar número de camadas)\n",
    "    - Usar o algoritmo original SGD (não usar algoritmos otimizados, e.g.ADAM)\n",
    "    - Avaliar o impacto do uso do Momentum\n",
    "    - Avaliar o impacto do uso da regularização (i.e. L2)\n",
    "\n",
    "- Ilustrar graficamente a evolução do treinamento (treino/validação).\n",
    "\n",
    "- Confeccionar um relatório (reprodutível) contendo os experimentos e resultados\n"
   ]
  },
  {
   "cell_type": "markdown",
   "id": "1881d92f",
   "metadata": {},
   "source": [
    "# Predicting Crocodiles' conservation status\n",
    "\n",
    "O primeiro problema a ser resolvido consiste em um problema de classificação utilizando um *dataset* \n",
    "sobre conservação de espécies de crocodilos."
   ]
  },
  {
   "cell_type": "markdown",
   "id": "7b7ecc38",
   "metadata": {},
   "source": [
    "## Upload do dataset\n",
    "\n",
    "Faremos o upload do *dataset* pela biblioteca **KaggleHub**. \n"
   ]
  },
  {
   "cell_type": "code",
   "execution_count": 4,
   "id": "c2567469",
   "metadata": {},
   "outputs": [
    {
     "name": "stdout",
     "output_type": "stream",
     "text": [
      "A biblioteca kagglehub já está instalada.\n"
     ]
    }
   ],
   "source": [
    "import sys\n",
    "import subprocess\n",
    "import pkg_resources\n",
    "\n",
    "try:\n",
    "    pkg_resources.get_distribution('kagglehub')\n",
    "    print(\"A biblioteca kagglehub já está instalada.\")\n",
    "except pkg_resources.DistributionNotFound:\n",
    "    print(\"A biblioteca kagglehub não foi encontrada. Instalando...\")\n",
    "    subprocess.check_call([sys.executable, \"-m\", \"pip\", \"install\", \"kagglehub\"])\n",
    "    print(\"kagglehub instalado com sucesso.\")"
   ]
  },
  {
   "cell_type": "code",
   "execution_count": 12,
   "id": "338c8799",
   "metadata": {},
   "outputs": [
    {
     "name": "stdout",
     "output_type": "stream",
     "text": [
      "<class 'pandas.core.frame.DataFrame'>\n",
      "RangeIndex: 1000 entries, 0 to 999\n",
      "Data columns (total 15 columns):\n",
      " #   Column                Non-Null Count  Dtype  \n",
      "---  ------                --------------  -----  \n",
      " 0   Observation ID        1000 non-null   int64  \n",
      " 1   Common Name           1000 non-null   object \n",
      " 2   Scientific Name       1000 non-null   object \n",
      " 3   Family                1000 non-null   object \n",
      " 4   Genus                 1000 non-null   object \n",
      " 5   Observed Length (m)   1000 non-null   float64\n",
      " 6   Observed Weight (kg)  1000 non-null   float64\n",
      " 7   Age Class             1000 non-null   object \n",
      " 8   Sex                   1000 non-null   object \n",
      " 9   Date of Observation   1000 non-null   object \n",
      " 10  Country/Region        1000 non-null   object \n",
      " 11  Habitat Type          1000 non-null   object \n",
      " 12  Conservation Status   1000 non-null   object \n",
      " 13  Observer Name         1000 non-null   object \n",
      " 14  Notes                 1000 non-null   object \n",
      "dtypes: float64(2), int64(1), object(12)\n",
      "memory usage: 117.3+ KB\n",
      "Dataset preview: \n",
      " None\n"
     ]
    }
   ],
   "source": [
    "import kagglehub\n",
    "import pandas as pd\n",
    "\n",
    "# Download latest version\n",
    "def download_and_load_dataset():\n",
    "    path = kagglehub.dataset_download(\"zadafiyabhrami/global-crocodile-species-dataset\") + \"/crocodile_dataset.csv\"\n",
    "    df = pd.read_csv(path)\n",
    "    return df, path\n",
    "\n",
    "if __name__ == \"__main__\":\n",
    "    df, path = download_and_load_dataset()\n",
    "    print(\"Dataset preview: \\n\", df.info())"
   ]
  },
  {
   "cell_type": "markdown",
   "id": "9062e727",
   "metadata": {},
   "source": [
    "## Preparação de dados\n",
    "\n",
    "Existem 15 atributos no total, no entanto, nem todos podem ser utilizados para classificação, e.g. *Common Name*, *Notes* ou *Family*."
   ]
  },
  {
   "cell_type": "code",
   "execution_count": 30,
   "id": "844039ff",
   "metadata": {},
   "outputs": [
    {
     "name": "stdout",
     "output_type": "stream",
     "text": [
      "Colunas categóricas restantes:\n",
      " Index(['Scientific Name', 'Genus', 'Age Class', 'Conservation Status'], dtype='object')\n",
      "\n",
      "Número de valores únicos por coluna:\n",
      "Scientific Name        18\n",
      "Genus                   3\n",
      "Age Class               4\n",
      "Conservation Status     5\n",
      "dtype: int64\n"
     ]
    }
   ],
   "source": [
    "\n",
    "cleaned_df = df.drop(columns=['Common Name', 'Notes', 'Family', \n",
    "                              'Observer Name', 'Country/Region', \n",
    "                              'Date of Observation', 'Sex', 'Habitat Type'])\n",
    "\n",
    "# Célula para inspecionar as colunas categóricas\n",
    "categorical_cols = cleaned_df.select_dtypes(include=['object']).columns\n",
    "print(\"Colunas categóricas restantes:\\n\", categorical_cols)\n",
    "print(\"\\nNúmero de valores únicos por coluna:\")\n",
    "print(cleaned_df[categorical_cols].nunique())"
   ]
  },
  {
   "cell_type": "markdown",
   "id": "ee1cc736",
   "metadata": {},
   "source": [
    "Das colunas categóricas restantes, vale a pena observar quais são apropriadas fazer **One-Hot Encoding** (1 de c), isto é, quais são **nominais** e quais são **ordinais**."
   ]
  },
  {
   "cell_type": "code",
   "execution_count": 31,
   "id": "82a7ab97",
   "metadata": {},
   "outputs": [
    {
     "name": "stdout",
     "output_type": "stream",
     "text": [
      "Dimensões do DataFrame após One-Hot Encoding: (1000, 26)\n"
     ]
    },
    {
     "data": {
      "application/vnd.microsoft.datawrangler.viewer.v0+json": {
       "columns": [
        {
         "name": "index",
         "rawType": "int64",
         "type": "integer"
        },
        {
         "name": "Observation ID",
         "rawType": "int64",
         "type": "integer"
        },
        {
         "name": "Observed Length (m)",
         "rawType": "float64",
         "type": "float"
        },
        {
         "name": "Observed Weight (kg)",
         "rawType": "float64",
         "type": "float"
        },
        {
         "name": "Age Class",
         "rawType": "object",
         "type": "string"
        },
        {
         "name": "Conservation Status",
         "rawType": "object",
         "type": "string"
        },
        {
         "name": "Genus_Crocodylus",
         "rawType": "bool",
         "type": "boolean"
        },
        {
         "name": "Genus_Mecistops",
         "rawType": "bool",
         "type": "boolean"
        },
        {
         "name": "Genus_Osteolaemus",
         "rawType": "bool",
         "type": "boolean"
        },
        {
         "name": "Scientific Name_Crocodylus acutus",
         "rawType": "bool",
         "type": "boolean"
        },
        {
         "name": "Scientific Name_Crocodylus halli",
         "rawType": "bool",
         "type": "boolean"
        },
        {
         "name": "Scientific Name_Crocodylus intermedius",
         "rawType": "bool",
         "type": "boolean"
        },
        {
         "name": "Scientific Name_Crocodylus johnstoni",
         "rawType": "bool",
         "type": "boolean"
        },
        {
         "name": "Scientific Name_Crocodylus mindorensis",
         "rawType": "bool",
         "type": "boolean"
        },
        {
         "name": "Scientific Name_Crocodylus moreletii",
         "rawType": "bool",
         "type": "boolean"
        },
        {
         "name": "Scientific Name_Crocodylus niloticus",
         "rawType": "bool",
         "type": "boolean"
        },
        {
         "name": "Scientific Name_Crocodylus novaeguineae",
         "rawType": "bool",
         "type": "boolean"
        },
        {
         "name": "Scientific Name_Crocodylus palustris",
         "rawType": "bool",
         "type": "boolean"
        },
        {
         "name": "Scientific Name_Crocodylus porosus",
         "rawType": "bool",
         "type": "boolean"
        },
        {
         "name": "Scientific Name_Crocodylus raninus",
         "rawType": "bool",
         "type": "boolean"
        },
        {
         "name": "Scientific Name_Crocodylus rhombifer",
         "rawType": "bool",
         "type": "boolean"
        },
        {
         "name": "Scientific Name_Crocodylus siamensis",
         "rawType": "bool",
         "type": "boolean"
        },
        {
         "name": "Scientific Name_Crocodylus suchus",
         "rawType": "bool",
         "type": "boolean"
        },
        {
         "name": "Scientific Name_Mecistops cataphractus",
         "rawType": "bool",
         "type": "boolean"
        },
        {
         "name": "Scientific Name_Mecistops leptorhynchus",
         "rawType": "bool",
         "type": "boolean"
        },
        {
         "name": "Scientific Name_Osteolaemus osborni",
         "rawType": "bool",
         "type": "boolean"
        },
        {
         "name": "Scientific Name_Osteolaemus tetraspis",
         "rawType": "bool",
         "type": "boolean"
        }
       ],
       "ref": "4ca51a50-0f73-400b-97a2-1b1b8d162104",
       "rows": [
        [
         "0",
         "1",
         "1.9",
         "62.0",
         "Adult",
         "Least Concern",
         "True",
         "False",
         "False",
         "False",
         "False",
         "False",
         "False",
         "False",
         "True",
         "False",
         "False",
         "False",
         "False",
         "False",
         "False",
         "False",
         "False",
         "False",
         "False",
         "False",
         "False"
        ],
        [
         "1",
         "2",
         "4.09",
         "334.5",
         "Adult",
         "Vulnerable",
         "True",
         "False",
         "False",
         "True",
         "False",
         "False",
         "False",
         "False",
         "False",
         "False",
         "False",
         "False",
         "False",
         "False",
         "False",
         "False",
         "False",
         "False",
         "False",
         "False",
         "False"
        ],
        [
         "2",
         "3",
         "1.08",
         "118.2",
         "Juvenile",
         "Critically Endangered",
         "True",
         "False",
         "False",
         "False",
         "False",
         "True",
         "False",
         "False",
         "False",
         "False",
         "False",
         "False",
         "False",
         "False",
         "False",
         "False",
         "False",
         "False",
         "False",
         "False",
         "False"
        ],
        [
         "3",
         "4",
         "2.42",
         "90.4",
         "Adult",
         "Least Concern",
         "True",
         "False",
         "False",
         "False",
         "False",
         "False",
         "False",
         "False",
         "True",
         "False",
         "False",
         "False",
         "False",
         "False",
         "False",
         "False",
         "False",
         "False",
         "False",
         "False",
         "False"
        ],
        [
         "4",
         "5",
         "3.75",
         "269.4",
         "Adult",
         "Vulnerable",
         "True",
         "False",
         "False",
         "False",
         "False",
         "False",
         "False",
         "False",
         "False",
         "False",
         "False",
         "True",
         "False",
         "False",
         "False",
         "False",
         "False",
         "False",
         "False",
         "False",
         "False"
        ]
       ],
       "shape": {
        "columns": 26,
        "rows": 5
       }
      },
      "text/html": [
       "<div>\n",
       "<style scoped>\n",
       "    .dataframe tbody tr th:only-of-type {\n",
       "        vertical-align: middle;\n",
       "    }\n",
       "\n",
       "    .dataframe tbody tr th {\n",
       "        vertical-align: top;\n",
       "    }\n",
       "\n",
       "    .dataframe thead th {\n",
       "        text-align: right;\n",
       "    }\n",
       "</style>\n",
       "<table border=\"1\" class=\"dataframe\">\n",
       "  <thead>\n",
       "    <tr style=\"text-align: right;\">\n",
       "      <th></th>\n",
       "      <th>Observation ID</th>\n",
       "      <th>Observed Length (m)</th>\n",
       "      <th>Observed Weight (kg)</th>\n",
       "      <th>Age Class</th>\n",
       "      <th>Conservation Status</th>\n",
       "      <th>Genus_Crocodylus</th>\n",
       "      <th>Genus_Mecistops</th>\n",
       "      <th>Genus_Osteolaemus</th>\n",
       "      <th>Scientific Name_Crocodylus acutus</th>\n",
       "      <th>Scientific Name_Crocodylus halli</th>\n",
       "      <th>...</th>\n",
       "      <th>Scientific Name_Crocodylus palustris</th>\n",
       "      <th>Scientific Name_Crocodylus porosus</th>\n",
       "      <th>Scientific Name_Crocodylus raninus</th>\n",
       "      <th>Scientific Name_Crocodylus rhombifer</th>\n",
       "      <th>Scientific Name_Crocodylus siamensis</th>\n",
       "      <th>Scientific Name_Crocodylus suchus</th>\n",
       "      <th>Scientific Name_Mecistops cataphractus</th>\n",
       "      <th>Scientific Name_Mecistops leptorhynchus</th>\n",
       "      <th>Scientific Name_Osteolaemus osborni</th>\n",
       "      <th>Scientific Name_Osteolaemus tetraspis</th>\n",
       "    </tr>\n",
       "  </thead>\n",
       "  <tbody>\n",
       "    <tr>\n",
       "      <th>0</th>\n",
       "      <td>1</td>\n",
       "      <td>1.90</td>\n",
       "      <td>62.0</td>\n",
       "      <td>Adult</td>\n",
       "      <td>Least Concern</td>\n",
       "      <td>True</td>\n",
       "      <td>False</td>\n",
       "      <td>False</td>\n",
       "      <td>False</td>\n",
       "      <td>False</td>\n",
       "      <td>...</td>\n",
       "      <td>False</td>\n",
       "      <td>False</td>\n",
       "      <td>False</td>\n",
       "      <td>False</td>\n",
       "      <td>False</td>\n",
       "      <td>False</td>\n",
       "      <td>False</td>\n",
       "      <td>False</td>\n",
       "      <td>False</td>\n",
       "      <td>False</td>\n",
       "    </tr>\n",
       "    <tr>\n",
       "      <th>1</th>\n",
       "      <td>2</td>\n",
       "      <td>4.09</td>\n",
       "      <td>334.5</td>\n",
       "      <td>Adult</td>\n",
       "      <td>Vulnerable</td>\n",
       "      <td>True</td>\n",
       "      <td>False</td>\n",
       "      <td>False</td>\n",
       "      <td>True</td>\n",
       "      <td>False</td>\n",
       "      <td>...</td>\n",
       "      <td>False</td>\n",
       "      <td>False</td>\n",
       "      <td>False</td>\n",
       "      <td>False</td>\n",
       "      <td>False</td>\n",
       "      <td>False</td>\n",
       "      <td>False</td>\n",
       "      <td>False</td>\n",
       "      <td>False</td>\n",
       "      <td>False</td>\n",
       "    </tr>\n",
       "    <tr>\n",
       "      <th>2</th>\n",
       "      <td>3</td>\n",
       "      <td>1.08</td>\n",
       "      <td>118.2</td>\n",
       "      <td>Juvenile</td>\n",
       "      <td>Critically Endangered</td>\n",
       "      <td>True</td>\n",
       "      <td>False</td>\n",
       "      <td>False</td>\n",
       "      <td>False</td>\n",
       "      <td>False</td>\n",
       "      <td>...</td>\n",
       "      <td>False</td>\n",
       "      <td>False</td>\n",
       "      <td>False</td>\n",
       "      <td>False</td>\n",
       "      <td>False</td>\n",
       "      <td>False</td>\n",
       "      <td>False</td>\n",
       "      <td>False</td>\n",
       "      <td>False</td>\n",
       "      <td>False</td>\n",
       "    </tr>\n",
       "    <tr>\n",
       "      <th>3</th>\n",
       "      <td>4</td>\n",
       "      <td>2.42</td>\n",
       "      <td>90.4</td>\n",
       "      <td>Adult</td>\n",
       "      <td>Least Concern</td>\n",
       "      <td>True</td>\n",
       "      <td>False</td>\n",
       "      <td>False</td>\n",
       "      <td>False</td>\n",
       "      <td>False</td>\n",
       "      <td>...</td>\n",
       "      <td>False</td>\n",
       "      <td>False</td>\n",
       "      <td>False</td>\n",
       "      <td>False</td>\n",
       "      <td>False</td>\n",
       "      <td>False</td>\n",
       "      <td>False</td>\n",
       "      <td>False</td>\n",
       "      <td>False</td>\n",
       "      <td>False</td>\n",
       "    </tr>\n",
       "    <tr>\n",
       "      <th>4</th>\n",
       "      <td>5</td>\n",
       "      <td>3.75</td>\n",
       "      <td>269.4</td>\n",
       "      <td>Adult</td>\n",
       "      <td>Vulnerable</td>\n",
       "      <td>True</td>\n",
       "      <td>False</td>\n",
       "      <td>False</td>\n",
       "      <td>False</td>\n",
       "      <td>False</td>\n",
       "      <td>...</td>\n",
       "      <td>True</td>\n",
       "      <td>False</td>\n",
       "      <td>False</td>\n",
       "      <td>False</td>\n",
       "      <td>False</td>\n",
       "      <td>False</td>\n",
       "      <td>False</td>\n",
       "      <td>False</td>\n",
       "      <td>False</td>\n",
       "      <td>False</td>\n",
       "    </tr>\n",
       "  </tbody>\n",
       "</table>\n",
       "<p>5 rows × 26 columns</p>\n",
       "</div>"
      ],
      "text/plain": [
       "   Observation ID  Observed Length (m)  Observed Weight (kg) Age Class  \\\n",
       "0               1                 1.90                  62.0     Adult   \n",
       "1               2                 4.09                 334.5     Adult   \n",
       "2               3                 1.08                 118.2  Juvenile   \n",
       "3               4                 2.42                  90.4     Adult   \n",
       "4               5                 3.75                 269.4     Adult   \n",
       "\n",
       "     Conservation Status  Genus_Crocodylus  Genus_Mecistops  \\\n",
       "0          Least Concern              True            False   \n",
       "1             Vulnerable              True            False   \n",
       "2  Critically Endangered              True            False   \n",
       "3          Least Concern              True            False   \n",
       "4             Vulnerable              True            False   \n",
       "\n",
       "   Genus_Osteolaemus  Scientific Name_Crocodylus acutus  \\\n",
       "0              False                              False   \n",
       "1              False                               True   \n",
       "2              False                              False   \n",
       "3              False                              False   \n",
       "4              False                              False   \n",
       "\n",
       "   Scientific Name_Crocodylus halli  ...  \\\n",
       "0                             False  ...   \n",
       "1                             False  ...   \n",
       "2                             False  ...   \n",
       "3                             False  ...   \n",
       "4                             False  ...   \n",
       "\n",
       "   Scientific Name_Crocodylus palustris  Scientific Name_Crocodylus porosus  \\\n",
       "0                                 False                               False   \n",
       "1                                 False                               False   \n",
       "2                                 False                               False   \n",
       "3                                 False                               False   \n",
       "4                                  True                               False   \n",
       "\n",
       "   Scientific Name_Crocodylus raninus  Scientific Name_Crocodylus rhombifer  \\\n",
       "0                               False                                 False   \n",
       "1                               False                                 False   \n",
       "2                               False                                 False   \n",
       "3                               False                                 False   \n",
       "4                               False                                 False   \n",
       "\n",
       "   Scientific Name_Crocodylus siamensis  Scientific Name_Crocodylus suchus  \\\n",
       "0                                 False                              False   \n",
       "1                                 False                              False   \n",
       "2                                 False                              False   \n",
       "3                                 False                              False   \n",
       "4                                 False                              False   \n",
       "\n",
       "   Scientific Name_Mecistops cataphractus  \\\n",
       "0                                   False   \n",
       "1                                   False   \n",
       "2                                   False   \n",
       "3                                   False   \n",
       "4                                   False   \n",
       "\n",
       "   Scientific Name_Mecistops leptorhynchus  \\\n",
       "0                                    False   \n",
       "1                                    False   \n",
       "2                                    False   \n",
       "3                                    False   \n",
       "4                                    False   \n",
       "\n",
       "   Scientific Name_Osteolaemus osborni  Scientific Name_Osteolaemus tetraspis  \n",
       "0                                False                                  False  \n",
       "1                                False                                  False  \n",
       "2                                False                                  False  \n",
       "3                                False                                  False  \n",
       "4                                False                                  False  \n",
       "\n",
       "[5 rows x 26 columns]"
      ]
     },
     "metadata": {},
     "output_type": "display_data"
    }
   ],
   "source": [
    "\n",
    "cols_nominal = ['Genus', 'Scientific Name'] # Categorias nominais\n",
    "\n",
    "# Aplica o One-Hot Encoding\n",
    "encoded_df = pd.get_dummies(cleaned_df, columns=cols_nominal)\n",
    "\n",
    "print(\"Dimensões do DataFrame após One-Hot Encoding:\", encoded_df.shape)\n",
    "display(encoded_df.head())"
   ]
  },
  {
   "cell_type": "code",
   "execution_count": 48,
   "id": "76d409da",
   "metadata": {},
   "outputs": [
    {
     "name": "stdout",
     "output_type": "stream",
     "text": [
      "Age Class\n",
      "Adult        510\n",
      "Subadult     247\n",
      "Juvenile     194\n",
      "Hatchling     49\n",
      "Name: count, dtype: int64\n",
      "\n",
      "\n",
      "Conservation Status\n",
      "Least Concern            384\n",
      "Critically Endangered    275\n",
      "Vulnerable               170\n",
      "Data Deficient           115\n",
      "Endangered                56\n",
      "Name: count, dtype: int64\n",
      "\n",
      "\n"
     ]
    }
   ],
   "source": [
    "cols_ordinal = ['Age Class', 'Conservation Status'] # Categorias ordinais\n",
    "\n",
    "for col in cols_ordinal:\n",
    "    print(df[col].value_counts())\n",
    "    print(\"\\n\")"
   ]
  },
  {
   "cell_type": "code",
   "execution_count": 53,
   "id": "f367d760",
   "metadata": {},
   "outputs": [
    {
     "data": {
      "application/vnd.microsoft.datawrangler.viewer.v0+json": {
       "columns": [
        {
         "name": "index",
         "rawType": "object",
         "type": "string"
        },
        {
         "name": "Scientific Name",
         "rawType": "object",
         "type": "unknown"
        }
       ],
       "ref": "2009639a-a2b6-4484-bb6b-e84512550b3e",
       "rows": [
        [
         "count",
         "115"
        ],
        [
         "unique",
         "2"
        ],
        [
         "top",
         "Crocodylus raninus"
        ],
        [
         "freq",
         "67"
        ]
       ],
       "shape": {
        "columns": 1,
        "rows": 4
       }
      },
      "text/plain": [
       "count                    115\n",
       "unique                     2\n",
       "top       Crocodylus raninus\n",
       "freq                      67\n",
       "Name: Scientific Name, dtype: object"
      ]
     },
     "execution_count": 53,
     "metadata": {},
     "output_type": "execute_result"
    }
   ],
   "source": [
    "cleaned_df['Scientific Name'][cleaned_df['Conservation Status'] == 'Data Deficient'].describe()"
   ]
  },
  {
   "cell_type": "markdown",
   "id": "29c6ee8a",
   "metadata": {},
   "source": [
    "Note que o status de conservação, nossa classe predita possui uma categoria como *data deficient*, o que pode ser que é cerca de $11,5%$ do nosso conjunto de dados... Isso corresponde à duas especies que não temos dados sobre conservação.\n",
    "\n",
    "Aqui nos encontramos com duas alternativas "
   ]
  },
  {
   "cell_type": "code",
   "execution_count": 49,
   "id": "5cb4921c",
   "metadata": {},
   "outputs": [],
   "source": [
    "age_class_mapper = {\n",
    "    \"Hatchling\": 0,\n",
    "    \"Juvenile\": 1,\n",
    "    \"Subadult\": 2,\n",
    "    \"Adult\": 3\n",
    "}\n",
    "\n",
    "encoded_df['Age Class'] = encoded_df['Age Class'].map(age_class_mapper)"
   ]
  }
 ],
 "metadata": {
  "kernelspec": {
   "display_name": "Project_1_venv",
   "language": "python",
   "name": "python3"
  },
  "language_info": {
   "codemirror_mode": {
    "name": "ipython",
    "version": 3
   },
   "file_extension": ".py",
   "mimetype": "text/x-python",
   "name": "python",
   "nbconvert_exporter": "python",
   "pygments_lexer": "ipython3",
   "version": "3.13.7"
  }
 },
 "nbformat": 4,
 "nbformat_minor": 5
}
